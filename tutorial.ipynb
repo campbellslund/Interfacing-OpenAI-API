{
 "cells": [
  {
   "cell_type": "code",
   "execution_count": null,
   "metadata": {},
   "outputs": [],
   "source": [
    "from gpt import GPT"
   ]
  },
  {
   "cell_type": "code",
   "execution_count": null,
   "metadata": {},
   "outputs": [],
   "source": [
    "# make sure to put your openai key in 'data/.env' before creating GPT instance \n",
    "gpt_instance = GPT(model='gpt-4o',prompt='default')"
   ]
  },
  {
   "cell_type": "code",
   "execution_count": null,
   "metadata": {},
   "outputs": [],
   "source": [
    "# using metadata\n",
    "# note: batches here AND in gpt.py so that streaming can be integrated for large datasets. Not needed for smaller inputs\n",
    "\n",
    "# sample prompts:\n",
    "prompts = [{'text':'Where are the 2024 Olympics?', 'source':'dataset1'},\n",
    "           {'text': 'Write me a haiku about trees', 'source':'dataset2'}]\n",
    "\n",
    "batch = []\n",
    "batch_size = 10\n",
    "final_responses = []\n",
    "\n",
    "for entry in prompts:\n",
    "    prompt = {\n",
    "        \"text\": entry['text'], # do not change - prompts must be stored with 'text' key\n",
    "        \"metadata\": { # do not change - metadata must be stored with 'metadata' key\n",
    "            \"source\": entry['source'] # change this to reflect the metadata you wish to track\n",
    "        },\n",
    "    }\n",
    "    batch.append(prompt)\n",
    "\n",
    "    if len(batch) >= batch_size:\n",
    "        # get responses from GPT:\n",
    "        responses = await gpt_instance.process_prompts_in_batches_async(batch)\n",
    "        final_responses.extend(\n",
    "            [\n",
    "                {**prompt[\"metadata\"], **response} # this is to make sure we can match prompts and responses back to their source\n",
    "                for prompt, response in zip(batch, responses)\n",
    "            ]\n",
    "        )\n",
    "        batch = []\n",
    "\n",
    "    # run one more time to make sure nothing is left in final batch\n",
    "    if batch:\n",
    "        responses = await gpt_instance.process_prompts_in_batches_async(batch)\n",
    "        final_responses.extend(\n",
    "            [\n",
    "                {**prompt[\"metadata\"], **response}\n",
    "                for prompt, response in zip(batch, responses)\n",
    "            ]\n",
    "        )\n",
    "\n",
    "#print GPT's responses:\n",
    "print(final_responses)"
   ]
  }
 ],
 "metadata": {
  "kernelspec": {
   "display_name": "Python 3",
   "language": "python",
   "name": "python3"
  },
  "language_info": {
   "codemirror_mode": {
    "name": "ipython",
    "version": 3
   },
   "file_extension": ".py",
   "mimetype": "text/x-python",
   "name": "python",
   "nbconvert_exporter": "python",
   "pygments_lexer": "ipython3",
   "version": "3.10.4"
  }
 },
 "nbformat": 4,
 "nbformat_minor": 2
}
